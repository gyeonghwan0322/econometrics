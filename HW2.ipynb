{
 "cells": [
  {
   "cell_type": "code",
   "id": "initial_id",
   "metadata": {
    "collapsed": true,
    "ExecuteTime": {
     "end_time": "2024-10-12T12:10:16.908177Z",
     "start_time": "2024-10-12T12:10:16.348581Z"
    }
   },
   "source": [
    "import pandas as pd\n",
    "import numpy as np\n",
    "import statsmodels.api as sm\n",
    "import statsmodels.formula.api as smf\n",
    "from scipy import stats\n",
    "import matplotlib.pyplot as plt\n",
    "import seaborn as sns\n",
    "\n",
    "# 시각화 스타일 설정\n",
    "sns.set(style=\"whitegrid\")"
   ],
   "outputs": [],
   "execution_count": 1
  },
  {
   "metadata": {
    "ExecuteTime": {
     "end_time": "2024-10-12T12:20:16.274820Z",
     "start_time": "2024-10-12T12:20:16.230642Z"
    }
   },
   "cell_type": "code",
   "source": [
    "# 데이터 파일 경로 설정 (필요 시 수정)\n",
    "file_path = 'nbasal.xlsx'\n",
    "\n",
    "# 엑셀 파일 불러오기\n",
    "df = pd.read_excel(file_path, engine='openpyxl')\n",
    "\n",
    "# 데이터의 처음 몇 행 확인\n",
    "print(df.head())\n",
    "\n",
    "# 데이터 요약 통계 확인\n",
    "print(df.describe())\n",
    "\n",
    "# 결측치 확인\n",
    "print(df.isnull().sum())\n"
   ],
   "id": "14b9fde3e7ec40a1",
   "outputs": [
    {
     "name": "stdout",
     "output_type": "stream",
     "text": [
      "     wage  exper  age  educ  games  points  rebounds  assists     lwage  black\n",
      "0  1.0025      4   27     4   77.0    15.5       3.9      4.5  2.305082      1\n",
      "1  2.0300      5   28     4   78.0    13.3       2.5      8.8  3.010621      1\n",
      "2  0.6500      1   25     4   74.0     5.5       3.3      0.2  1.871802      1\n",
      "3  1.0500      5   29     4   82.0    11.6       4.0      NaN  2.351375      1\n",
      "4  2.0300      5   28     4   47.0     7.3       5.1      1.5  3.010621      1\n",
      "             wage       exper         age        educ       games      points  \\\n",
      "count  278.000000  291.000000  291.000000  291.000000  289.000000  286.000000   \n",
      "mean     1.421261    5.254296   27.587629    3.704467   65.072664    9.974825   \n",
      "std      1.001932    3.529766    3.549898    0.797808   19.593568    5.868620   \n",
      "min      0.150000    1.000000   21.000000    0.000000    0.000000    0.000000   \n",
      "25%      0.650000    2.000000   25.000000    4.000000   55.000000    5.225000   \n",
      "50%      1.173000    5.000000   27.000000    4.000000   73.000000    9.050000   \n",
      "75%      2.011875    7.500000   30.000000    4.000000   79.000000   13.950000   \n",
      "max      5.740000   18.000000   41.000000    4.000000   82.000000   29.799999   \n",
      "\n",
      "         rebounds     assists       lwage       black  \n",
      "count  286.000000  288.000000  278.000000  291.000000  \n",
      "mean     4.289860    2.377083    2.341072    0.793814  \n",
      "std      2.861677    2.072223    0.888560    0.405262  \n",
      "min      0.000000    0.000000    0.405465    0.000000  \n",
      "25%      2.225000    0.900000    1.871802    1.000000  \n",
      "50%      3.600000    1.800000    2.462088    1.000000  \n",
      "75%      5.400000    3.400000    3.001650    1.000000  \n",
      "max     17.299999   12.600000    4.050045    1.000000  \n",
      "wage        13\n",
      "exper        0\n",
      "age          0\n",
      "educ         0\n",
      "games        2\n",
      "points       5\n",
      "rebounds     5\n",
      "assists      3\n",
      "lwage       13\n",
      "black        0\n",
      "dtype: int64\n"
     ]
    }
   ],
   "execution_count": 13
  },
  {
   "metadata": {
    "ExecuteTime": {
     "end_time": "2024-10-12T12:23:17.735122Z",
     "start_time": "2024-10-12T12:23:17.726552Z"
    }
   },
   "cell_type": "code",
   "source": [
    "# 결측치 확인\n",
    "missing_values = df.isnull().sum()\n",
    "print(\"\\n결측치 개수:\")\n",
    "print(missing_values)\n",
    "# 결측치 값이 있는 행 제거\n",
    "df = df.replace([np.inf, -np.inf], np.nan).dropna()\n",
    "\n",
    "# 제거 후 데이터 확인\n",
    "print(\"\\n결측치 제거한 후 데이터 개수:\")\n",
    "print(df_clean.shape)\n"
   ],
   "id": "abdd4af69d3efa64",
   "outputs": [
    {
     "name": "stdout",
     "output_type": "stream",
     "text": [
      "\n",
      "결측치 개수:\n",
      "wage        13\n",
      "exper        0\n",
      "age          0\n",
      "educ         0\n",
      "games        2\n",
      "points       5\n",
      "rebounds     5\n",
      "assists      3\n",
      "lwage       13\n",
      "black        0\n",
      "dtype: int64\n",
      "\n",
      "결측치 제거한 후 데이터 개수:\n",
      "(271, 10)\n"
     ]
    }
   ],
   "execution_count": 19
  },
  {
   "metadata": {},
   "cell_type": "markdown",
   "source": "1. 요약통계량 보고",
   "id": "8a88b7cc06cc000f"
  },
  {
   "metadata": {
    "ExecuteTime": {
     "end_time": "2024-10-12T12:23:26.286748Z",
     "start_time": "2024-10-12T12:23:26.279582Z"
    }
   },
   "cell_type": "code",
   "source": [
    "# 요약 통계량 계산\n",
    "summary_stats = df[['wage', 'lwage']].describe()\n",
    "\n",
    "print(\"Summary Statistics for 'wage' and 'lwage':\")\n",
    "print(summary_stats)\n"
   ],
   "id": "9c4f7e3ba0d5f2a8",
   "outputs": [
    {
     "name": "stdout",
     "output_type": "stream",
     "text": [
      "Summary Statistics for 'wage' and 'lwage':\n",
      "             wage       lwage\n",
      "count  271.000000  271.000000\n",
      "mean     1.430663    2.352965\n",
      "std      0.999976    0.880881\n",
      "min      0.150000    0.405465\n",
      "25%      0.650000    1.871802\n",
      "50%      1.195000    2.480731\n",
      "75%      2.022250    3.006788\n",
      "max      5.740000    4.050045\n"
     ]
    }
   ],
   "execution_count": 20
  },
  {
   "metadata": {},
   "cell_type": "markdown",
   "source": "2. 회귀분석 및 해석",
   "id": "f68d876a1b71b05c"
  },
  {
   "metadata": {
    "ExecuteTime": {
     "end_time": "2024-10-12T12:23:28.782699Z",
     "start_time": "2024-10-12T12:23:28.758849Z"
    }
   },
   "cell_type": "code",
   "source": [
    "# 회귀 모형 추정\n",
    "independent_vars = ['age', 'exper', 'games', 'points', 'rebounds', 'assists', 'black']\n",
    "\n",
    "X = df[independent_vars]\n",
    "y = df['lwage']\n",
    "\n",
    "# 상수항 추가\n",
    "X = sm.add_constant(X)\n",
    "\n",
    "# OLS 회귀 모형 적합\n",
    "model = sm.OLS(y, X).fit()\n",
    "\n",
    "# 회귀 결과 요약 출력\n",
    "print(model.summary())\n"
   ],
   "id": "bae411a3f99c3632",
   "outputs": [
    {
     "name": "stdout",
     "output_type": "stream",
     "text": [
      "                            OLS Regression Results                            \n",
      "==============================================================================\n",
      "Dep. Variable:                  lwage   R-squared:                       0.488\n",
      "Model:                            OLS   Adj. R-squared:                  0.474\n",
      "Method:                 Least Squares   F-statistic:                     35.82\n",
      "Date:                Sat, 12 Oct 2024   Prob (F-statistic):           6.05e-35\n",
      "Time:                        21:23:28   Log-Likelihood:                -258.94\n",
      "No. Observations:                 271   AIC:                             533.9\n",
      "Df Residuals:                     263   BIC:                             562.7\n",
      "Df Model:                           7                                         \n",
      "Covariance Type:            nonrobust                                         \n",
      "==============================================================================\n",
      "                 coef    std err          t      P>|t|      [0.025      0.975]\n",
      "------------------------------------------------------------------------------\n",
      "const          1.9680      0.830      2.372      0.018       0.334       3.602\n",
      "age           -0.0454      0.035     -1.284      0.200      -0.115       0.024\n",
      "exper          0.1195      0.036      3.351      0.001       0.049       0.190\n",
      "games          0.0012      0.002      0.496      0.620      -0.004       0.006\n",
      "points         0.0549      0.011      5.213      0.000       0.034       0.076\n",
      "rebounds       0.0611      0.018      3.452      0.001       0.026       0.096\n",
      "assists        0.0297      0.024      1.230      0.220      -0.018       0.077\n",
      "black          0.0534      0.100      0.536      0.592      -0.143       0.249\n",
      "==============================================================================\n",
      "Omnibus:                       20.054   Durbin-Watson:                   2.107\n",
      "Prob(Omnibus):                  0.000   Jarque-Bera (JB):               22.616\n",
      "Skew:                          -0.636   Prob(JB):                     1.23e-05\n",
      "Kurtosis:                       3.622   Cond. No.                     1.59e+03\n",
      "==============================================================================\n",
      "\n",
      "Notes:\n",
      "[1] Standard Errors assume that the covariance matrix of the errors is correctly specified.\n",
      "[2] The condition number is large, 1.59e+03. This might indicate that there are\n",
      "strong multicollinearity or other numerical problems.\n"
     ]
    }
   ],
   "execution_count": 21
  },
  {
   "metadata": {},
   "cell_type": "markdown",
   "source": "games변수의 계수는 0.0012로 games가 한 단위 증가할 때 wage는 약 1.2%증가한다고 해석 가능",
   "id": "87fe47d17e1c2066"
  },
  {
   "metadata": {},
   "cell_type": "markdown",
   "source": "  2. black계수는 0.0534로 더미 변수인데 계수가 0보다 크기 때문에 흑인 선수의 임금이 비흑인 선수의 임금보다 크다는 것을 알 수 있다",
   "id": "2d8d3bf2ccdbc09b"
  },
  {
   "metadata": {},
   "cell_type": "markdown",
   "source": "3. age의 경우 p-value가 0.05보다 크기 때문에 귀무가설을 기각하지 못한다. 즉 유의미한 영향을 미치지 못함을 알 수 있다.",
   "id": "edd25a1d6c234468"
  },
  {
   "metadata": {
    "ExecuteTime": {
     "end_time": "2024-10-12T12:29:01.955890Z",
     "start_time": "2024-10-12T12:29:01.951163Z"
    }
   },
   "cell_type": "code",
   "source": [
    "p_value_age = model.pvalues['age']\n",
    "print(f\"P-value for age: {p_value_age}\")\n",
    "\n",
    "# 유의수준 설정\n",
    "alpha = 0.05\n",
    "\n",
    "if p_value_age < alpha:\n",
    "    print(\"p-value < 0.05 → 귀무가설을 기각합니다.\")\n",
    "    print(\"age가 log(wage)에 유의미한 영향을 미칩니다.\")\n",
    "else:\n",
    "    print(\"p-value ≥ 0.05 → 귀무가설을 기각하지 못합니다.\")\n",
    "    print(\"age가 log(wage)에 유의미한 영향을 미치지 않습니다.\")"
   ],
   "id": "4220d588d0efc635",
   "outputs": [
    {
     "name": "stdout",
     "output_type": "stream",
     "text": [
      "P-value for age: 0.20011802448392518\n",
      "p-value ≥ 0.05 → 귀무가설을 기각하지 못합니다.\n",
      "age가 log(wage)에 유의미한 영향을 미치지 않습니다.\n"
     ]
    }
   ],
   "execution_count": 22
  },
  {
   "metadata": {
    "ExecuteTime": {
     "end_time": "2024-10-12T12:29:12.846464Z",
     "start_time": "2024-10-12T12:29:12.831654Z"
    }
   },
   "cell_type": "code",
   "source": [
    "# 제한된 독립 변수 리스트 (age와 exper 제외)\n",
    "restricted_vars = ['games', 'points', 'rebounds', 'assists', 'black']\n",
    "\n",
    "# 제한된 독립 변수와 종속 변수 설정\n",
    "X_restricted = df[restricted_vars]\n",
    "y_restricted = df['lwage']\n",
    "\n",
    "# 상수항 추가 (절편)\n",
    "X_restricted = sm.add_constant(X_restricted)\n",
    "\n",
    "# 제한된 회귀 모델 적합\n",
    "model_restricted = sm.OLS(y_restricted, X_restricted).fit()\n",
    "\n",
    "# 제한된 회귀 결과 요약 출력\n",
    "print(model_restricted.summary())\n"
   ],
   "id": "64297de16f2a64ca",
   "outputs": [
    {
     "name": "stdout",
     "output_type": "stream",
     "text": [
      "                            OLS Regression Results                            \n",
      "==============================================================================\n",
      "Dep. Variable:                  lwage   R-squared:                       0.403\n",
      "Model:                            OLS   Adj. R-squared:                  0.391\n",
      "Method:                 Least Squares   F-statistic:                     35.73\n",
      "Date:                Sat, 12 Oct 2024   Prob (F-statistic):           6.76e-28\n",
      "Time:                        21:29:12   Log-Likelihood:                -279.84\n",
      "No. Observations:                 271   AIC:                             571.7\n",
      "Df Residuals:                     265   BIC:                             593.3\n",
      "Df Model:                           5                                         \n",
      "Covariance Type:            nonrobust                                         \n",
      "==============================================================================\n",
      "                 coef    std err          t      P>|t|      [0.025      0.975]\n",
      "------------------------------------------------------------------------------\n",
      "const          1.1946      0.164      7.296      0.000       0.872       1.517\n",
      "games          0.0017      0.003      0.646      0.519      -0.003       0.007\n",
      "points         0.0584      0.011      5.201      0.000       0.036       0.081\n",
      "rebounds       0.0720      0.019      3.796      0.000       0.035       0.109\n",
      "assists        0.0445      0.026      1.725      0.086      -0.006       0.095\n",
      "black          0.0436      0.106      0.412      0.681      -0.165       0.252\n",
      "==============================================================================\n",
      "Omnibus:                       12.759   Durbin-Watson:                   2.114\n",
      "Prob(Omnibus):                  0.002   Jarque-Bera (JB):               13.214\n",
      "Skew:                          -0.524   Prob(JB):                      0.00135\n",
      "Kurtosis:                       3.271   Cond. No.                         285.\n",
      "==============================================================================\n",
      "\n",
      "Notes:\n",
      "[1] Standard Errors assume that the covariance matrix of the errors is correctly specified.\n"
     ]
    }
   ],
   "execution_count": 23
  },
  {
   "metadata": {
    "ExecuteTime": {
     "end_time": "2024-10-12T12:29:17.804461Z",
     "start_time": "2024-10-12T12:29:17.798598Z"
    }
   },
   "cell_type": "code",
   "source": [
    "# F-검정 수행\n",
    "f_test = model.compare_f_test(model_restricted)\n",
    "f_stat = f_test[0]\n",
    "p_value = f_test[1]\n",
    "df_diff = f_test[2]\n",
    "\n",
    "print(f\"F-statistic: {f_stat}\")\n",
    "print(f\"P-value: {p_value}\")\n",
    "print(f\"Degrees of Freedom Difference: {df_diff}\")\n",
    "\n",
    "# 유의수준 설정\n",
    "alpha = 0.05\n",
    "\n",
    "if p_value < alpha:\n",
    "    print(\"\\nP-value < 0.05 → 귀무가설을 기각합니다.\")\n",
    "    print(\"age와 exper는 log(wage)에 유의미한 영향을 미칩니다.\")\n",
    "else:\n",
    "    print(\"\\nP-value ≥ 0.05 → 귀무가설을 기각하지 못합니다.\")\n",
    "    print(\"age와 exper는 log(wage)에 유의미한 영향을 미치지 않습니다.\")\n"
   ],
   "id": "1c429d5af0f09a41",
   "outputs": [
    {
     "name": "stdout",
     "output_type": "stream",
     "text": [
      "F-statistic: 21.936876151798575\n",
      "P-value: 1.5451641716468364e-09\n",
      "Degrees of Freedom Difference: 2.0\n",
      "\n",
      "P-value < 0.05 → 귀무가설을 기각합니다.\n",
      "age와 exper는 log(wage)에 유의미한 영향을 미칩니다.\n"
     ]
    }
   ],
   "execution_count": 24
  },
  {
   "metadata": {},
   "cell_type": "markdown",
   "source": [
    "age의 t검정 결과로는 유의미한 영향을 미치지 않는다고 나왔으나 f검정 결과로는 유의미한 영향을 미쳤다고 나왔음.  \n",
    "때문에 다중공선성이 있을 확률이 높음"
   ],
   "id": "9cf8e13dd7d12994"
  },
  {
   "metadata": {
    "ExecuteTime": {
     "end_time": "2024-10-12T12:32:34.821633Z",
     "start_time": "2024-10-12T12:32:34.817455Z"
    }
   },
   "cell_type": "code",
   "source": [
    "# Experience의 회귀 계수와 p-value 확인\n",
    "beta_exper = model.params['exper']\n",
    "se_exper = model.bse['exper']\n",
    "t_stat_exper = beta_exper / se_exper\n",
    "p_value_exper = 2 * (1 - stats.t.cdf(abs(t_stat_exper), df=model.df_resid))\n",
    "print(f\"\\n### Experience의 회귀 계수 = {beta_exper}\")\n",
    "print(f\"Experience의 표준 오차 = {se_exper}\")\n",
    "print(f\"Experience의 t-통계량 = {t_stat_exper}\")\n",
    "print(f\"Experience의 p-값 = {p_value_exper}\")\n"
   ],
   "id": "8c00351461030e95",
   "outputs": [
    {
     "name": "stdout",
     "output_type": "stream",
     "text": [
      "\n",
      "### Experience의 회귀 계수 = 0.11951926913482087\n",
      "Experience의 표준 오차 = 0.03566600702023304\n",
      "Experience의 t-통계량 = 3.351069523062073\n",
      "Experience의 p-값 = 0.0009231324752814185\n"
     ]
    }
   ],
   "execution_count": 26
  },
  {
   "metadata": {
    "ExecuteTime": {
     "end_time": "2024-10-12T12:32:47.380060Z",
     "start_time": "2024-10-12T12:32:47.376328Z"
    }
   },
   "cell_type": "code",
   "source": [
    "# Age와 Experience 간의 상관관계\n",
    "correlation = df_clean['age'].corr(df_clean['exper'])\n",
    "print(f\"\\n### Age와 Experience 간의 상관계수 = {correlation}\")\n"
   ],
   "id": "42958ca51ec32a95",
   "outputs": [
    {
     "name": "stdout",
     "output_type": "stream",
     "text": [
      "\n",
      "### Age와 Experience 간의 상관계수 = 0.9410094370990791\n"
     ]
    }
   ],
   "execution_count": 27
  },
  {
   "metadata": {},
   "cell_type": "markdown",
   "source": "만약 다중공선성이 여전히 문제가 될 경우 ridge혹은 lasso의 방법을 적용가능",
   "id": "decac4a3f8837285"
  },
  {
   "metadata": {},
   "cell_type": "code",
   "outputs": [],
   "execution_count": null,
   "source": "",
   "id": "6be2674262ef5560"
  }
 ],
 "metadata": {
  "kernelspec": {
   "display_name": "Python 3",
   "language": "python",
   "name": "python3"
  },
  "language_info": {
   "codemirror_mode": {
    "name": "ipython",
    "version": 2
   },
   "file_extension": ".py",
   "mimetype": "text/x-python",
   "name": "python",
   "nbconvert_exporter": "python",
   "pygments_lexer": "ipython2",
   "version": "2.7.6"
  }
 },
 "nbformat": 4,
 "nbformat_minor": 5
}
